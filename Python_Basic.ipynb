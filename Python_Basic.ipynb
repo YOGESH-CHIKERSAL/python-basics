{
  "nbformat": 4,
  "nbformat_minor": 0,
  "metadata": {
    "colab": {
      "provenance": []
    },
    "kernelspec": {
      "name": "python3",
      "display_name": "Python 3"
    },
    "language_info": {
      "name": "python"
    }
  },
  "cells": [
    {
      "cell_type": "markdown",
      "source": [
        "**Python Basic**\n"
      ],
      "metadata": {
        "id": "8zLueBNo5MF6"
      }
    },
    {
      "cell_type": "markdown",
      "source": [
        " **Ques 1 What is Python, and why is it popular ?**\n",
        "-\n",
        "           Python is one of High Level Programming language and known for its\n",
        "           simple syntax and readibility Because\n",
        "           its is very easy to learn\n",
        "           its have many libaries      \n",
        "           its have easy to install\n",
        "\n",
        "**Ques 2 What is an interpreter in Python**\n",
        " -     \n",
        " An interpreter is an program that executes your Python Code Line - By -\n",
        "     Line instead of compiling the whole program at once\n",
        "     it shows error immediately as they occur during execution\n",
        "\n",
        "**Ques 3 What are pre-defined keywords in Python **\n",
        "--> Pre Defined are keywords in Python in that which has a special meaning or   can say reserved words for some special functions\n",
        "\n",
        "eg. Print,if,else etc\n",
        "\n",
        "**Ques 4 Can keywords be used as variable names **\n",
        "--> No\n",
        "\n",
        "**Ques 5 What is mutability in Python **\n",
        "--> Mutability Means Which Value can be Changed after its Created\n",
        "\n",
        "**Ques 6 Why are List mutable , but tuples are unmutable ?**\n",
        "--> Mutable means Which data can be changed\n",
        "    Unmutable means which Data cannot be changed\n",
        "\n",
        "    list are mutable because data is designed for store dynamic data -\n",
        "    data that can be change over time\n",
        "\n",
        "    tuple are unmutable because data is designed for fixed data which cannot change over time\n",
        "\n",
        "**Ques 7 What is the difference between “==” and “is” operators in Python**\n",
        "\n",
        "\n",
        "\n",
        "\n",
        "--> Equality Operator(==) :\n",
        "    1) checks whether values are equal\n",
        "    2) Even if  two objects store at different mem. locations,if values match\n",
        "      == Return True\n",
        "    eg. a=[1,2,3] b=[1,2,3]\n",
        "        a==b\n",
        "        it Returns the True\n",
        "\n",
        "  is operator:\n",
        "    1) it checks if both variables refer to same object in memory\n",
        "    2) Returns True only if both variables point to the same memory\n",
        "       location\n",
        "\n",
        "    eg  a=[1,2,3]\n",
        "        b=[1,2,3]\n",
        "       print(a is b) # False , Because they have different objects\n",
        "\n",
        "  **Ques 8 What are Logical operaters in Python ?**\n",
        "\n",
        "\n",
        "\n",
        "\n",
        " -\n",
        "\n",
        "   1) AND OPERATOR : when \"and\" is used then both statement are to be True otherwise False will be printed\n",
        "   2) OR OPERATOR : when \"or\" is used then one of the statement is to be True , if both are False then False will be Printed\n",
        "  3) NOT OPERATOR : When NOT is used then is used reverse the truth value of an expression\n",
        "       \n",
        "  if expression is :\n",
        "      * True -> Not returns False\n",
        "      * False -> Not returns True\n",
        "\n",
        "   Ques 9 What is Type Casting ?\n",
        "   --> Type Casting is the process which can one data type to other data type\n",
        "       This is explicit type casting\n",
        "       for eg .\n",
        "       int to float\n",
        "       str to int\n",
        "       str to float\n",
        "\n",
        "  Ques 10) What is the difference between implicit and explicit type casting  \n",
        "  \n",
        "  \n",
        "    -->  Implicit type casting is happens automatically when i smaller data type\n",
        "         into larger data type . This is safe , no data is lost\n",
        "         Done By Complier automatically\n",
        "\n",
        "    -->  Type Casting is the process which can one data type to other data type\n",
        "         This is explicit type casting. this is done by User\n",
        "          for eg .\n",
        "       int to float\n",
        "       str to int\n",
        "       str to float\n",
        "    \n",
        "  \n",
        "  Ques 11) What is the purpose of conditional statements in Python\n",
        "        \n",
        "      -->\n",
        "        Conditional statements in Python are used to make decisions in your code. They allow your program to execute certain blocks of code only when specific conditions are true.\n",
        "\n",
        "\n",
        "       🎯 Main Purpose:\n",
        "\n",
        "       To control the flow of execution in a program based on certain conditions (True/False).\n",
        "\n",
        "\n",
        "      🔍 Why Use Conditional Statements?\n",
        "\t   •\tTo perform different actions based on different inputs\n",
        "\t   •\tTo make the program dynamic and logical\n",
        "\t   •\tTo add decision-making ability in your program\n",
        "\n",
        "\n",
        "Ques 12) How does the elif statement work\n",
        "       \n",
        "       -\n",
        "       The elif statement is used to check Check multiple conditions one after other . It comes after if and before else . it is more than 2 possible cases\n",
        "\n",
        "       how it works:\n",
        "\n",
        "       1.Python checks if condition:\n",
        "       * if it True , it runs the block and skips the Rest\n",
        "       * if it is False , it checks the first elif condition\n",
        "       * if else is also false , it check the next elif and so on\n",
        "       * if none of condition , then else condition statement runs\n",
        "\n",
        "\n",
        "Ques 13) What is the difference between for and while loops\n",
        "\n",
        "    -\n",
        "    1) For Loop :  You know in advance How many times you want to repeat     the code\n",
        "\n",
        "    mostly use in list tuple or sequence...\n",
        "\n",
        "    2) While Loop : if we don't know the how many times its runs as long\n",
        "    condition is True\n",
        "\n",
        "\n",
        "  Ques 14) Describe a scenario where a while loop is more suitable than a for loop.\n",
        "\n",
        "\n",
        "       -\n",
        "       ATM PIN ENTRY SYSTEM Because we does't know user right pin in which times so we use while but for loop not right for it\n",
        "\n",
        "\n"
      ],
      "metadata": {
        "id": "1bkVq-uN5S8g"
      }
    },
    {
      "cell_type": "code",
      "execution_count": null,
      "metadata": {
        "colab": {
          "base_uri": "https://localhost:8080/"
        },
        "id": "7mEUCxey4diU",
        "outputId": "e0d78272-f76a-48a7-8f6c-5856d509aa5c"
      },
      "outputs": [
        {
          "output_type": "stream",
          "name": "stdout",
          "text": [
            "Hello, World!\n"
          ]
        }
      ],
      "source": [
        "# QUES . 1\n",
        "# Write a Python program to print \"Hello, World!\"\n",
        "print(\"Hello, World!\")"
      ]
    },
    {
      "cell_type": "code",
      "source": [
        "#QUES . 2\n",
        "# Write a Python program that displays your name and age\n",
        "name=\"Yogesh Chikersal\"\n",
        "age=21\n",
        "print(\"My Name is\",name)\n",
        "print(\"Age is\",age)"
      ],
      "metadata": {
        "colab": {
          "base_uri": "https://localhost:8080/"
        },
        "id": "12Vs2KVbQ72N",
        "outputId": "6762d83d-7db2-4e68-fc96-a30affb58e7e"
      },
      "execution_count": null,
      "outputs": [
        {
          "output_type": "stream",
          "name": "stdout",
          "text": [
            "My Name is Yogesh Chikersal\n",
            "Age is 21\n"
          ]
        }
      ]
    },
    {
      "cell_type": "code",
      "source": [
        "# QUES.3\n",
        "#Write code to print all the pre-defined keywords in Python using the keyword library\n",
        "help(\"keywords\")"
      ],
      "metadata": {
        "colab": {
          "base_uri": "https://localhost:8080/"
        },
        "id": "h5jyVNIM6NVA",
        "outputId": "78d9215e-15da-4e0b-d66c-7a4d825332bf"
      },
      "execution_count": null,
      "outputs": [
        {
          "output_type": "stream",
          "name": "stdout",
          "text": [
            "\n",
            "Here is a list of the Python keywords.  Enter any keyword to get more help.\n",
            "\n",
            "False               class               from                or\n",
            "None                continue            global              pass\n",
            "True                def                 if                  raise\n",
            "and                 del                 import              return\n",
            "as                  elif                in                  try\n",
            "assert              else                is                  while\n",
            "async               except              lambda              with\n",
            "await               finally             nonlocal            yield\n",
            "break               for                 not                 \n",
            "\n"
          ]
        }
      ]
    },
    {
      "cell_type": "code",
      "source": [
        "#QUES.4\n",
        "# Write a program that checks if a given word is a Python keyword\n",
        "import keyword\n",
        "word=input(\"Enter the word \")\n",
        "if keyword.iskeyword(word):\n",
        "  print(f\"{word} is python keyword\")\n",
        "else:\n",
        "  print(f\"{word} is not python keyword\")"
      ],
      "metadata": {
        "colab": {
          "base_uri": "https://localhost:8080/"
        },
        "id": "IxUAT7hXZeqE",
        "outputId": "e79b1ad5-6f68-4141-fd45-c8270b9b9c2a"
      },
      "execution_count": null,
      "outputs": [
        {
          "output_type": "stream",
          "name": "stdout",
          "text": [
            "Enter the word if\n",
            "if is python keyword\n"
          ]
        }
      ]
    },
    {
      "cell_type": "code",
      "source": [
        "#QUES.5\n",
        "'''Create a list and tuple in Python, and demonstrate how attempting to change an element works differently\n",
        "for each'''\n",
        "list=[1,2,3,4,5]\n",
        "tuple=(1,\"Yogesh\",2004)\n",
        "\n",
        "# change element of list\n",
        "list[2]=6\n",
        "print(list)\n",
        "\n",
        "# tuple[2]=2005 # error because it is inmutable\n",
        "print(tuple)"
      ],
      "metadata": {
        "colab": {
          "base_uri": "https://localhost:8080/"
        },
        "id": "vzNjp5C9ZkDc",
        "outputId": "e17513d7-4b3f-48fc-9212-cdb88e9b82e0"
      },
      "execution_count": null,
      "outputs": [
        {
          "output_type": "stream",
          "name": "stdout",
          "text": [
            "[1, 2, 6, 4, 5]\n",
            "(1, 'Yogesh', 2004)\n"
          ]
        }
      ]
    },
    {
      "cell_type": "code",
      "source": [
        "#6. Write a function to demonstrate the behavior of mutable and immutable arguments.\n",
        "list=[1,2,3,4,5]\n",
        "tuple=(1,\"Yogesh\",2004)\n",
        "\n",
        "# change element of list\n",
        "list[2]=6\n",
        "print(list)\n",
        "\n",
        "# tuple[2]=2005 # error because it is inmutable\n",
        "print(tuple)"
      ],
      "metadata": {
        "colab": {
          "base_uri": "https://localhost:8080/"
        },
        "id": "e9mZn3o_Zkh1",
        "outputId": "b6c172ea-e32c-427b-fb3c-eeb00eb2ab54"
      },
      "execution_count": null,
      "outputs": [
        {
          "output_type": "stream",
          "name": "stdout",
          "text": [
            "[1, 2, 6, 4, 5]\n",
            "(1, 'Yogesh', 2004)\n"
          ]
        }
      ]
    },
    {
      "cell_type": "code",
      "source": [
        "# 7. Write a program that performs basic arithmetic operations on two user-input numbers.\n",
        "num1=int(input(\"Enter a first number = \"))\n",
        "num2=int(input(\"Enter a Second number = \"))\n",
        "sum=num1+num2\n",
        "sub=num1-num\n",
        "multiply=\n",
        "print(\"Sum of 2 numbers : \",sum)"
      ],
      "metadata": {
        "colab": {
          "base_uri": "https://localhost:8080/"
        },
        "id": "27EF0cWCZko9",
        "outputId": "54bc94d7-f9d1-4141-9693-5a868b40cdb8"
      },
      "execution_count": null,
      "outputs": [
        {
          "output_type": "stream",
          "name": "stdout",
          "text": [
            "Enter a first number = 58\n",
            "Enter a Second number = 96\n",
            "Sum of 2 numbers :  154\n"
          ]
        }
      ]
    },
    {
      "cell_type": "code",
      "source": [
        "#8. Write a program to demonstrate the use of logical operators.\n",
        "a=10\n",
        "b=20\n",
        "print((a<b) and (a==10))\n",
        "print((a>b) or (b==20))\n",
        "print(not(a==b))"
      ],
      "metadata": {
        "colab": {
          "base_uri": "https://localhost:8080/"
        },
        "id": "m9hMonnZg0Dn",
        "outputId": "4546decd-6fdb-4cf4-c901-374dd3cb95c9"
      },
      "execution_count": null,
      "outputs": [
        {
          "output_type": "stream",
          "name": "stdout",
          "text": [
            "True\n",
            "True\n",
            "True\n"
          ]
        }
      ]
    },
    {
      "cell_type": "code",
      "source": [
        "# 9. Write a Python program to convert user input from string to integer, float, and boolean types.\n",
        "a=input(\"Enter a number\")\n",
        "print(int(a))\n",
        "print(float(a))\n",
        "print(bool(a))"
      ],
      "metadata": {
        "colab": {
          "base_uri": "https://localhost:8080/"
        },
        "id": "Tf9MRCwaiLPr",
        "outputId": "d2ec52e2-a3fe-4325-a201-ffb6b88c4397"
      },
      "execution_count": null,
      "outputs": [
        {
          "output_type": "stream",
          "name": "stdout",
          "text": [
            "Enter a number0\n",
            "0\n",
            "0.0\n",
            "True\n"
          ]
        }
      ]
    },
    {
      "cell_type": "markdown",
      "source": [],
      "metadata": {
        "id": "vY4TsrYt5RAV"
      }
    },
    {
      "cell_type": "code",
      "source": [
        "#10. Write code to demonstrate type casting with list elements.\n",
        "list=[1,2,3,4,5]\n",
        "print(float(list[2]))\n",
        "print(str(list[1]))\n",
        "print(bool(list[3]))"
      ],
      "metadata": {
        "colab": {
          "base_uri": "https://localhost:8080/"
        },
        "id": "DlRCgJ9pja1j",
        "outputId": "79eb2abb-61cb-4760-d5e2-42f59688250c"
      },
      "execution_count": null,
      "outputs": [
        {
          "output_type": "stream",
          "name": "stdout",
          "text": [
            "3.0\n",
            "2\n",
            "True\n"
          ]
        }
      ]
    },
    {
      "cell_type": "code",
      "source": [
        "# 11. Write a program that checks if a number is positive, negative, or zero.\n",
        "a=int(input(\"Enter the number\"))\n",
        "if a>0:\n",
        "  print(\"Postive number\")\n",
        "elif a<0:\n",
        "  print(\"Negative number\")\n",
        "else:\n",
        "  print(\"Zero\")"
      ],
      "metadata": {
        "colab": {
          "base_uri": "https://localhost:8080/"
        },
        "id": "DqQPcUDjkNho",
        "outputId": "aea1dfb9-a8f6-49f4-aac9-78a7d2a8f2cf"
      },
      "execution_count": null,
      "outputs": [
        {
          "output_type": "stream",
          "name": "stdout",
          "text": [
            "Enter the number0\n",
            "Zero\n"
          ]
        }
      ]
    },
    {
      "cell_type": "code",
      "source": [
        "# 12. Write a for loop to print numbers from 1 to 10.\n",
        "i=1\n",
        "while i<=10:\n",
        "  print(i)\n",
        "  i+=1\n",
        "\n",
        "  # by using While loop"
      ],
      "metadata": {
        "colab": {
          "base_uri": "https://localhost:8080/"
        },
        "id": "Tu2H_Pesk21H",
        "outputId": "5deeb08b-1d5b-4126-e9e3-71270db47380"
      },
      "execution_count": null,
      "outputs": [
        {
          "output_type": "stream",
          "name": "stdout",
          "text": [
            "1\n",
            "2\n",
            "3\n",
            "4\n",
            "5\n",
            "6\n",
            "7\n",
            "8\n",
            "9\n",
            "10\n"
          ]
        }
      ]
    },
    {
      "cell_type": "code",
      "source": [
        "# 13. Write a Python program to find the sum of all even numbers between 1 and 50.\n",
        "i=1\n",
        "while i<=50:\n",
        "  if i%2==0:\n",
        "    print(i)\n",
        "  i+=1\n",
        "\n",
        "\n"
      ],
      "metadata": {
        "colab": {
          "base_uri": "https://localhost:8080/"
        },
        "id": "dGQriWORlVAQ",
        "outputId": "4edf84da-a7e7-4e69-a09f-6863abe7d51a"
      },
      "execution_count": null,
      "outputs": [
        {
          "output_type": "stream",
          "name": "stdout",
          "text": [
            "2\n",
            "4\n",
            "6\n",
            "8\n",
            "10\n",
            "12\n",
            "14\n",
            "16\n",
            "18\n",
            "20\n",
            "22\n",
            "24\n",
            "26\n",
            "28\n",
            "30\n",
            "32\n",
            "34\n",
            "36\n",
            "38\n",
            "40\n",
            "42\n",
            "44\n",
            "46\n",
            "48\n",
            "50\n"
          ]
        }
      ]
    },
    {
      "cell_type": "code",
      "source": [
        "# 14. Write a program to reverse a string using a while loop.\n",
        "string=input(\"Enter the string\")\n",
        "rev_string=\"\"\n",
        "index=len(string)-1\n",
        "while index>=0:\n",
        "  rev_string=rev_string+string[index]\n",
        "  index-=1\n",
        "print(\"Reversed string\",rev_string)\n"
      ],
      "metadata": {
        "colab": {
          "base_uri": "https://localhost:8080/"
        },
        "id": "4pV9m9o2nKxH",
        "outputId": "e4300a57-159a-4730-c22d-55efd456b1fb"
      },
      "execution_count": null,
      "outputs": [
        {
          "output_type": "stream",
          "name": "stdout",
          "text": [
            "Enter the stringWALLAH\n",
            "Reversed string HALLAW\n"
          ]
        }
      ]
    },
    {
      "cell_type": "code",
      "source": [
        "# 15. Write a Python program to calculate the factorial of a number provided by the user using a while loop.\n",
        "Num=int(input(\"Enter the number\"))\n",
        "i=1\n",
        "fact=1\n",
        "while i<=Num:\n",
        "  fact=fact * i\n",
        "  i+=1\n",
        "print(\"Factorial\", fact )\n",
        "\n",
        "\n"
      ],
      "metadata": {
        "colab": {
          "base_uri": "https://localhost:8080/"
        },
        "id": "d5iSzk5bq09P",
        "outputId": "0691000e-6b0e-4455-bf8d-99c044a7d692"
      },
      "execution_count": null,
      "outputs": [
        {
          "output_type": "stream",
          "name": "stdout",
          "text": [
            "Enter the number5\n",
            "Factorial 120\n"
          ]
        }
      ]
    },
    {
      "cell_type": "markdown",
      "source": [],
      "metadata": {
        "id": "zGy9n6mZ4lF1"
      }
    }
  ]
}